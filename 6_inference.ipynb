{
 "cells": [
  {
   "cell_type": "code",
   "execution_count": 1,
   "id": "b5605848",
   "metadata": {},
   "outputs": [],
   "source": [
    "import pandas as pd\n",
    "import numpy as np\n",
    "import joblib\n",
    "import warnings\n",
    "warnings.filterwarnings('ignore')"
   ]
  },
  {
   "cell_type": "code",
   "execution_count": 2,
   "id": "0c7b2eb6",
   "metadata": {},
   "outputs": [
    {
     "name": "stdout",
     "output_type": "stream",
     "text": [
      "================================================================================\n",
      "🔮 SCRIPT DE INFERENCIA - PREDICCIÓN PARA 2025-2S\n",
      "================================================================================\n"
     ]
    }
   ],
   "source": [
    "print(\"=\"*80)\n",
    "print(\"🔮 SCRIPT DE INFERENCIA - PREDICCIÓN PARA 2025-2S\")\n",
    "print(\"=\"*80)"
   ]
  },
  {
   "cell_type": "code",
   "execution_count": 3,
   "id": "5566d084",
   "metadata": {},
   "outputs": [
    {
     "name": "stdout",
     "output_type": "stream",
     "text": [
      "\n",
      "📂 Cargando modelos y configuración...\n"
     ]
    }
   ],
   "source": [
    "# Cargar modelos y encoders\n",
    "print(\"\\n📂 Cargando modelos y configuración...\")\n",
    "label_encoders = joblib.load('models/label_encoders.pkl')\n",
    "feature_info = joblib.load('models/feature_info.pkl')"
   ]
  },
  {
   "cell_type": "code",
   "execution_count": 4,
   "id": "bbeddc21",
   "metadata": {},
   "outputs": [
    {
     "name": "stdout",
     "output_type": "stream",
     "text": [
      "\n",
      "🤖 Modelos disponibles:\n",
      "  1. Random Forest\n",
      "  3. Regresión Logística\n",
      "  4. XGBoost\n"
     ]
    }
   ],
   "source": [
    "# Modelos disponibles\n",
    "modelos_disponibles = {\n",
    "    '1': ('Random Forest', 'models/random_forest_model.pkl'),\n",
    "    # '2': ('SVM', 'models/svm_model.pkl'),\n",
    "    '3': ('Regresión Logística', 'models/logistic_regression_model.pkl'),\n",
    "    '4': ('XGBoost', 'models/xgboost_model.pkl')\n",
    "}\n",
    "\n",
    "print(\"\\n🤖 Modelos disponibles:\")\n",
    "for key, (nombre, _) in modelos_disponibles.items():\n",
    "    print(f\"  {key}. {nombre}\")"
   ]
  },
  {
   "cell_type": "code",
   "execution_count": 5,
   "id": "b37f8c23",
   "metadata": {},
   "outputs": [
    {
     "name": "stdout",
     "output_type": "stream",
     "text": [
      "\n",
      "✅ Modelo seleccionado: Random Forest\n"
     ]
    }
   ],
   "source": [
    "# Seleccionar modelo\n",
    "modelo_seleccionado = input(\"\\n👉 Selecciona el modelo a usar (1-4): \").strip()\n",
    "\n",
    "if modelo_seleccionado not in modelos_disponibles:\n",
    "    print(\"❌ Opción inválida. Usando Random Forest por defecto.\")\n",
    "    modelo_seleccionado = '1'\n",
    "\n",
    "nombre_modelo, ruta_modelo = modelos_disponibles[modelo_seleccionado]\n",
    "print(f\"\\n✅ Modelo seleccionado: {nombre_modelo}\")"
   ]
  },
  {
   "cell_type": "code",
   "execution_count": 6,
   "id": "4c51e18b",
   "metadata": {},
   "outputs": [],
   "source": [
    "anio_objetivo = 2025\n",
    "termino_objetivo = \"2S\""
   ]
  },
  {
   "cell_type": "code",
   "execution_count": 7,
   "id": "2c665b6d",
   "metadata": {},
   "outputs": [
    {
     "name": "stdout",
     "output_type": "stream",
     "text": [
      "✓ Modelo cargado desde 'models/random_forest_model.pkl'\n",
      "\n",
      "📊 Cargando datos de inferencia...\n",
      "✓ Datos cargados: 30324 registros\n"
     ]
    }
   ],
   "source": [
    "# Cargar modelo\n",
    "modelo = joblib.load(ruta_modelo)\n",
    "print(f\"✓ Modelo cargado desde '{ruta_modelo}'\")\n",
    "\n",
    "# Cargar datos de inferencia\n",
    "print(\"\\n📊 Cargando datos de inferencia...\")\n",
    "try:\n",
    "    df_inferencia = pd.read_csv(f'models/datos_inferencia_{anio_objetivo}_{termino_objetivo}.csv')\n",
    "    print(f\"✓ Datos cargados: {len(df_inferencia)} registros\")\n",
    "except FileNotFoundError:\n",
    "    print(f\"❌ No se encontró el archivo 'models/datos_inferencia_{anio_objetivo}_{termino_objetivo}.csv'\")\n",
    "    print(\"   Asegúrate de haber ejecutado el script de entrenamiento primero.\")\n",
    "    exit()"
   ]
  },
  {
   "cell_type": "code",
   "execution_count": null,
   "id": "aa1ee01e",
   "metadata": {},
   "outputs": [
    {
     "name": "stdout",
     "output_type": "stream",
     "text": [
      "\n",
      "🔮 Realizando predicciones...\n",
      "\n",
      "================================================================================\n",
      "📊 RESULTADOS DE INFERENCIA\n",
      "================================================================================\n",
      "\n",
      "📈 Distribución de predicciones:\n",
      "PREDICCION_TEXTO\n",
      "APROBARÁ     22410\n",
      "REPROBARÁ     7914\n",
      "Name: count, dtype: int64\n",
      "\n",
      "  • Porcentaje predicho de aprobación: 73.90%\n",
      "  • Porcentaje predicho de reprobación: 26.10%\n",
      "\n",
      "📊 Estadísticas de probabilidades:\n",
      "  • Probabilidad promedio de aprobar: 0.6920\n",
      "  • Probabilidad mínima: 0.0703\n",
      "  • Probabilidad máxima: 0.9999\n",
      "  • Desviación estándar: 0.2602\n",
      "\n",
      " Estudiantes en ALTA PROBABILIDAD de aprobar (prob > 0.5): 22410\n",
      "⚠️ Estudiantes en PROBABILIDAD MODERADA (0.3 < prob <= 0.5): 4396\n",
      "\n",
      "💾 Predicciones guardadas en 'models/predicciones_2025_2S_random_forest.csv'\n",
      "\n",
      "📋 EJEMPLOS DE PREDICCIONES (primeros 10 registros):\n",
      "================================================================================\n",
      "PREDICCION_TEXTO  PROB_APROBAR\n",
      "        APROBARÁ      0.963844\n",
      "        APROBARÁ      0.851829\n",
      "        APROBARÁ      0.948531\n",
      "        APROBARÁ      0.991909\n",
      "        APROBARÁ      0.831589\n",
      "        APROBARÁ      0.935227\n",
      "        APROBARÁ      0.967770\n",
      "        APROBARÁ      0.953369\n",
      "        APROBARÁ      0.586449\n",
      "        APROBARÁ      0.891584\n",
      "\n",
      "================================================================================\n",
      "✅ INFERENCIA COMPLETADA\n",
      "================================================================================\n"
     ]
    }
   ],
   "source": [
    "# Verificar que tengamos los datos correctos\n",
    "if len(df_inferencia) == 0:\n",
    "    print(\"❌ No hay datos disponibles para inferencia.\")\n",
    "    exit()\n",
    "\n",
    "# Extraer features\n",
    "X_columns = feature_info['X_columns']\n",
    "X_inferencia = df_inferencia[X_columns]\n",
    "\n",
    "print(f\"\\n🔮 Realizando predicciones...\")\n",
    "# Predicciones\n",
    "predicciones = modelo.predict(X_inferencia)\n",
    "probabilidades = modelo.predict_proba(X_inferencia)[:, 1]  # Probabilidad de aprobar\n",
    "\n",
    "# Agregar predicciones al dataframe\n",
    "df_inferencia['PREDICCION'] = predicciones\n",
    "df_inferencia['PROB_APROBAR'] = probabilidades\n",
    "df_inferencia['PREDICCION_TEXTO'] = df_inferencia['PREDICCION'].apply(\n",
    "    lambda x: 'APROBARÁ' if x == 1 else 'REPROBARÁ'\n",
    ")\n",
    "\n",
    "# Resultados\n",
    "print(f\"\\n{'='*80}\")\n",
    "print(f\"📊 RESULTADOS DE INFERENCIA\")\n",
    "print(f\"{'='*80}\")\n",
    "\n",
    "print(f\"\\n📈 Distribución de predicciones:\")\n",
    "print(df_inferencia['PREDICCION_TEXTO'].value_counts())\n",
    "print(f\"\\n  • Porcentaje predicho de aprobación: {(predicciones == 1).mean()*100:.2f}%\")\n",
    "print(f\"  • Porcentaje predicho de reprobación: {(predicciones == 0).mean()*100:.2f}%\")\n",
    "\n",
    "print(f\"\\n📊 Estadísticas de probabilidades:\")\n",
    "print(f\"  • Probabilidad promedio de aprobar: {probabilidades.mean():.4f}\")\n",
    "print(f\"  • Probabilidad mínima: {probabilidades.min():.4f}\")\n",
    "print(f\"  • Probabilidad máxima: {probabilidades.max():.4f}\")\n",
    "print(f\"  • Desviación estándar: {probabilidades.std():.4f}\")\n",
    "\n",
    "# Estudiantes en riesgo (probabilidad > 0.5)\n",
    "estudiantes_riesgo = df_inferencia[df_inferencia['PROB_APROBAR'] > 0.5]\n",
    "print(f\"\\n Estudiantes en ALTA PROBABILIDAD de aprobar (prob > 0.5): {len(estudiantes_riesgo)}\")\n",
    "\n",
    "# Estudiantes en riesgo moderado (0.3 < prob <= 0.5)\n",
    "estudiantes_riesgo_moderado = df_inferencia[\n",
    "    (df_inferencia['PROB_APROBAR'] > 0.3) & (df_inferencia['PROB_APROBAR'] <= 0.5)\n",
    "]\n",
    "print(f\"⚠️ Estudiantes en PROBABILIDAD MODERADA (0.3 < prob <= 0.5): {len(estudiantes_riesgo_moderado)}\")\n",
    "\n",
    "# Guardar resultados\n",
    "output_file = f'models/predicciones_2025_2S_{nombre_modelo.replace(\" \", \"_\").lower()}.csv'\n",
    "df_inferencia.to_csv(output_file, index=False)\n",
    "print(f\"\\n💾 Predicciones guardadas en '{output_file}'\")\n",
    "\n",
    "# Mostrar algunos ejemplos\n",
    "print(f\"\\n📋 EJEMPLOS DE PREDICCIONES (primeros 10 registros):\")\n",
    "print(\"=\"*80)\n",
    "columnas_mostrar = ['COD_ESTUDIANTE', 'COD_MATERIA_ACAD_MO', 'PREDICCION_TEXTO', 'PROB_APROBAR']\n",
    "if 'COD_ESTUDIANTE' in df_inferencia.columns:\n",
    "    print(df_inferencia[columnas_mostrar].head(10).to_string(index=False))\n",
    "else:\n",
    "    print(df_inferencia[['PREDICCION_TEXTO', 'PROB_APROBAR']].head(10).to_string(index=False))\n",
    "\n",
    "\n",
    "print(f\"\\n{'='*80}\")\n",
    "print(f\"✅ INFERENCIA COMPLETADA\")\n",
    "print(f\"{'='*80}\")"
   ]
  }
 ],
 "metadata": {
  "kernelspec": {
   "display_name": "Python 3",
   "language": "python",
   "name": "python3"
  },
  "language_info": {
   "codemirror_mode": {
    "name": "ipython",
    "version": 3
   },
   "file_extension": ".py",
   "mimetype": "text/x-python",
   "name": "python",
   "nbconvert_exporter": "python",
   "pygments_lexer": "ipython3",
   "version": "3.12.10"
  }
 },
 "nbformat": 4,
 "nbformat_minor": 5
}
