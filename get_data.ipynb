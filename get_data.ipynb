{
 "cells": [
  {
   "cell_type": "code",
   "execution_count": 1,
   "id": "489dd1cc",
   "metadata": {},
   "outputs": [],
   "source": [
    "import os\n",
    "# Reemplaza con tu ruta si es diferente\n",
    "os.add_dll_directory('C:\\\\Program Files\\\\IBM\\\\SQLLIB\\\\BIN')\n",
    "# conectar a la base de datos IBM Db2\n",
    "import ibm_db"
   ]
  },
  {
   "cell_type": "code",
   "execution_count": 2,
   "id": "bf824faf",
   "metadata": {},
   "outputs": [
    {
     "data": {
      "text/plain": [
       "True"
      ]
     },
     "execution_count": 2,
     "metadata": {},
     "output_type": "execute_result"
    }
   ],
   "source": [
    "import queries\n",
    "import ibm_db_dbi\n",
    "from dotenv import load_dotenv\n",
    "load_dotenv()"
   ]
  },
  {
   "cell_type": "code",
   "execution_count": 3,
   "id": "c5ba990d",
   "metadata": {},
   "outputs": [
    {
     "name": "stdout",
     "output_type": "stream",
     "text": [
      "Conexión exitosa\n"
     ]
    }
   ],
   "source": [
    "conn = ibm_db.connect('DATABASE=' + os.getenv('DATABASE') + ';HOSTNAME=' + os.getenv('HOSTNAME') + ';PORT=' + os.getenv('PORT') + ';PROTOCOL=TCPIP;UID=' + os.getenv('USERNAME_DB') + ';PWD=' + os.getenv('PASSWORD_DB') + ';', '', '')\n",
    "# conn = ibm_db.connect(os.getenv('DATABASE'), os.getenv('USERNAME_DB'), os.getenv('PASSWORD_DB')) # os.getenv('HOSTNAME'), os.getenv('PORT')\n",
    "\n",
    "if conn:\n",
    "    print(\"Conexión exitosa\")\n",
    "else:\n",
    "    print(\"Error al conectar\")"
   ]
  },
  {
   "cell_type": "code",
   "execution_count": 6,
   "id": "7c8acef3",
   "metadata": {},
   "outputs": [
    {
     "ename": "UnicodeDecodeError",
     "evalue": "'utf-8' codec can't decode byte 0xf3 in position 69: invalid continuation byte",
     "output_type": "error",
     "traceback": [
      "\u001b[31m---------------------------------------------------------------------------\u001b[39m",
      "\u001b[31mUnicodeDecodeError\u001b[39m                        Traceback (most recent call last)",
      "\u001b[36mCell\u001b[39m\u001b[36m \u001b[39m\u001b[32mIn[6]\u001b[39m\u001b[32m, line 1\u001b[39m\n\u001b[32m----> \u001b[39m\u001b[32m1\u001b[39m stmt_select  = \u001b[43mibm_db\u001b[49m\u001b[43m.\u001b[49m\u001b[43mexec_immediate\u001b[49m\u001b[43m(\u001b[49m\u001b[43mconn\u001b[49m\u001b[43m,\u001b[49m\u001b[43m \u001b[49m\u001b[43mqueries\u001b[49m\u001b[43m.\u001b[49m\u001b[43mnota_materia\u001b[49m\u001b[43m)\u001b[49m\n",
      "\u001b[31mUnicodeDecodeError\u001b[39m: 'utf-8' codec can't decode byte 0xf3 in position 69: invalid continuation byte"
     ]
    }
   ],
   "source": [
    "stmt_select  = ibm_db.exec_immediate(conn, queries.nota_materia)"
   ]
  },
  {
   "cell_type": "code",
   "execution_count": null,
   "id": "b376ee4f",
   "metadata": {},
   "outputs": [],
   "source": [
    "# Fetch and print the column names\n",
    "column_names = []\n",
    "while ibm_db.fetch_row(stmt_select) != False:\n",
    "    column_name = ibm_db.result(stmt_select, 0) # Get the value from the first column (NAME)\n",
    "    column_names.append(column_name)"
   ]
  },
  {
   "cell_type": "code",
   "execution_count": null,
   "id": "4aa242ad",
   "metadata": {},
   "outputs": [
    {
     "name": "stdout",
     "output_type": "stream",
     "text": [
      "Column names for YOUR_TABLE_NAME:\n",
      "202308219\n",
      "202008934\n",
      "202306387\n",
      "202307344\n",
      "202209003\n",
      "202206710\n",
      "202200739\n",
      "202305058\n",
      "202205811\n",
      "202212106\n",
      "202005823\n",
      "202202735\n",
      "201912292\n",
      "201612397\n"
     ]
    }
   ],
   "source": [
    "# print(\"Column names for YOUR_TABLE_NAME:\")\n",
    "# for name in column_names:\n",
    "#     print(name)"
   ]
  },
  {
   "cell_type": "code",
   "execution_count": null,
   "id": "66ea044c",
   "metadata": {},
   "outputs": [],
   "source": [
    "cols = ibm_db.fetch_tuple( stmt_select )"
   ]
  },
  {
   "cell_type": "code",
   "execution_count": null,
   "id": "8f157e92",
   "metadata": {},
   "outputs": [
    {
     "data": {
      "text/plain": [
       "False"
      ]
     },
     "execution_count": 11,
     "metadata": {},
     "output_type": "execute_result"
    }
   ],
   "source": [
    "cols"
   ]
  },
  {
   "cell_type": "code",
   "execution_count": null,
   "id": "85e74f15",
   "metadata": {},
   "outputs": [],
   "source": [
    "# Fetch all rows\n",
    "result = ibm_db.fetch_assoc(stmt_select)\n",
    "while result:\n",
    "    print(result)\n",
    "    result = ibm_db.fetch_assoc(stmt_select)"
   ]
  },
  {
   "cell_type": "code",
   "execution_count": null,
   "id": "a4bdca47",
   "metadata": {},
   "outputs": [
    {
     "data": {
      "text/plain": [
       "True"
      ]
     },
     "execution_count": 10,
     "metadata": {},
     "output_type": "execute_result"
    }
   ],
   "source": [
    "# Close the connection\n",
    "ibm_db.close(conn)"
   ]
  }
 ],
 "metadata": {
  "kernelspec": {
   "display_name": "Python 3",
   "language": "python",
   "name": "python3"
  },
  "language_info": {
   "codemirror_mode": {
    "name": "ipython",
    "version": 3
   },
   "file_extension": ".py",
   "mimetype": "text/x-python",
   "name": "python",
   "nbconvert_exporter": "python",
   "pygments_lexer": "ipython3",
   "version": "3.12.10"
  }
 },
 "nbformat": 4,
 "nbformat_minor": 5
}
