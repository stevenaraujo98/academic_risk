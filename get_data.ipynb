{
 "cells": [
  {
   "cell_type": "code",
   "execution_count": 4,
   "id": "489dd1cc",
   "metadata": {},
   "outputs": [],
   "source": [
    "import os\n",
    "# Reemplaza con tu ruta si es diferente\n",
    "os.add_dll_directory('C:\\\\Program Files\\\\IBM\\\\SQLLIB\\\\BIN')\n",
    "# conectar a la base de datos IBM Db2\n",
    "import ibm_db"
   ]
  },
  {
   "cell_type": "code",
   "execution_count": 5,
   "id": "bf824faf",
   "metadata": {},
   "outputs": [
    {
     "data": {
      "text/plain": [
       "True"
      ]
     },
     "execution_count": 5,
     "metadata": {},
     "output_type": "execute_result"
    }
   ],
   "source": [
    "import queries\n",
    "import ibm_db_dbi\n",
    "from dotenv import load_dotenv\n",
    "load_dotenv()"
   ]
  },
  {
   "cell_type": "code",
   "execution_count": 6,
   "id": "c5ba990d",
   "metadata": {},
   "outputs": [
    {
     "name": "stdout",
     "output_type": "stream",
     "text": [
      "Conexión exitosa\n"
     ]
    }
   ],
   "source": [
    "conn = ibm_db.connect('DATABASE=' + os.getenv('DATABASE') + ';HOSTNAME=' + os.getenv('HOSTNAME') + ';PORT=' + os.getenv('PORT') + ';PROTOCOL=TCPIP;UID=' + os.getenv('USERNAME_DB') + ';PWD=' + os.getenv('PASSWORD_DB') + ';', '', '')\n",
    "# conn = ibm_db.connect(os.getenv('DATABASE'), os.getenv('USERNAME_DB'), os.getenv('PASSWORD_DB')) # os.getenv('HOSTNAME'), os.getenv('PORT')\n",
    "\n",
    "if conn:\n",
    "    print(\"Conexión exitosa\")\n",
    "else:\n",
    "    print(\"Error al conectar\")"
   ]
  },
  {
   "cell_type": "code",
   "execution_count": 7,
   "id": "7c8acef3",
   "metadata": {},
   "outputs": [],
   "source": [
    "stmt_select  = ibm_db.exec_immediate(conn, queries.nota_materia)"
   ]
  },
  {
   "cell_type": "code",
   "execution_count": 8,
   "id": "b376ee4f",
   "metadata": {},
   "outputs": [],
   "source": [
    "# Fetch and print the column names\n",
    "column_names = []\n",
    "while ibm_db.fetch_row(stmt_select) != False:\n",
    "    column_name = ibm_db.result(stmt_select, 0) # Get the value from the first column (NAME)\n",
    "    column_names.append(column_name)"
   ]
  },
  {
   "cell_type": "code",
   "execution_count": 9,
   "id": "4aa242ad",
   "metadata": {},
   "outputs": [],
   "source": [
    "# print(\"Column names for YOUR_TABLE_NAME:\")\n",
    "# for name in column_names:\n",
    "#     print(name)"
   ]
  },
  {
   "cell_type": "code",
   "execution_count": 10,
   "id": "66ea044c",
   "metadata": {},
   "outputs": [],
   "source": [
    "cols = ibm_db.fetch_tuple( stmt_select )"
   ]
  },
  {
   "cell_type": "code",
   "execution_count": 11,
   "id": "8f157e92",
   "metadata": {},
   "outputs": [
    {
     "data": {
      "text/plain": [
       "False"
      ]
     },
     "execution_count": 11,
     "metadata": {},
     "output_type": "execute_result"
    }
   ],
   "source": [
    "cols"
   ]
  },
  {
   "cell_type": "code",
   "execution_count": 12,
   "id": "85e74f15",
   "metadata": {},
   "outputs": [],
   "source": [
    "# Fetch all rows\n",
    "result = ibm_db.fetch_assoc(stmt_select)\n",
    "while result:\n",
    "    print(result)\n",
    "    result = ibm_db.fetch_assoc(stmt_select)"
   ]
  },
  {
   "cell_type": "code",
   "execution_count": 13,
   "id": "a4bdca47",
   "metadata": {},
   "outputs": [
    {
     "data": {
      "text/plain": [
       "True"
      ]
     },
     "execution_count": 13,
     "metadata": {},
     "output_type": "execute_result"
    }
   ],
   "source": [
    "# Close the connection\n",
    "ibm_db.close(conn)"
   ]
  }
 ],
 "metadata": {
  "kernelspec": {
   "display_name": "Python 3",
   "language": "python",
   "name": "python3"
  },
  "language_info": {
   "codemirror_mode": {
    "name": "ipython",
    "version": 3
   },
   "file_extension": ".py",
   "mimetype": "text/x-python",
   "name": "python",
   "nbconvert_exporter": "python",
   "pygments_lexer": "ipython3",
   "version": "3.12.10"
  }
 },
 "nbformat": 4,
 "nbformat_minor": 5
}
