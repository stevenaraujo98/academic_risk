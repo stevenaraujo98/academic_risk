{
 "cells": [
  {
   "cell_type": "code",
   "execution_count": null,
   "id": "bf824faf",
   "metadata": {},
   "outputs": [],
   "source": []
  },
  {
   "cell_type": "code",
   "execution_count": 1,
   "id": "7c8acef3",
   "metadata": {},
   "outputs": [],
   "source": [
    "query = \"SELECT COD_ESTUDIANTE, COD_MATERIA_ACAD, tm.NOMBRE, PROMEDIO,VEZ_TOMADA, hd.* FROM espol.HISTORIA_ANIO  hd \\\n",
    "INNER JOIN espol.TBL_MATERIA tm ON hd.COD_MATERIA_ACAD =tm.CODIGOMATERIA \\\n",
    "WHERE COD_ESTUDIANTE='202111407' \\\n",
    "AND COD_DIVISION='CI' AND cod_carrera='015' AND COD_ESPECIALIZ='' \\\n",
    "AND ANIO='2025' AND hd.ESTADO_MAT_TOMADA <>'AN';\""
   ]
  },
  {
   "cell_type": "code",
   "execution_count": null,
   "id": "66ea044c",
   "metadata": {},
   "outputs": [],
   "source": []
  }
 ],
 "metadata": {
  "kernelspec": {
   "display_name": "Python 3",
   "language": "python",
   "name": "python3"
  },
  "language_info": {
   "codemirror_mode": {
    "name": "ipython",
    "version": 3
   },
   "file_extension": ".py",
   "mimetype": "text/x-python",
   "name": "python",
   "nbconvert_exporter": "python",
   "pygments_lexer": "ipython3",
   "version": "3.12.10"
  }
 },
 "nbformat": 4,
 "nbformat_minor": 5
}
